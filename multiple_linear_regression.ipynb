{
  "nbformat": 4,
  "nbformat_minor": 0,
  "metadata": {
    "kernelspec": {
      "display_name": "Python 3",
      "language": "python",
      "name": "python3"
    },
    "language_info": {
      "codemirror_mode": {
        "name": "ipython",
        "version": 3
      },
      "file_extension": ".py",
      "mimetype": "text/x-python",
      "name": "python",
      "nbconvert_exporter": "python",
      "pygments_lexer": "ipython3",
      "version": "3.6.8"
    },
    "colab": {
      "name": "multiple_linear_regression.ipynb",
      "provenance": []
    }
  },
  "cells": [
    {
      "cell_type": "markdown",
      "metadata": {
        "id": "N7QvJbs4bf3L",
        "colab_type": "text"
      },
      "source": [
        "\n",
        "<h2 align=\"center\">Multiple Linear Regression</h2>"
      ]
    },
    {
      "cell_type": "markdown",
      "metadata": {
        "id": "99syBQw4bf3N",
        "colab_type": "text"
      },
      "source": [
        "Linear Regression is a useful tool for predicting a quantitative response."
      ]
    },
    {
      "cell_type": "markdown",
      "metadata": {
        "id": "_XAv6Q4fbf3O",
        "colab_type": "text"
      },
      "source": [
        "We have an input vector $X^T = (X_1, X_2,...,X_p)$, and want to predict a real-valued output $Y$. The linear regression model has the form"
      ]
    },
    {
      "cell_type": "markdown",
      "metadata": {
        "id": "YDdw1CW8bf3P",
        "colab_type": "text"
      },
      "source": [
        "<h4 align=\"center\"> $f(x) = \\beta_0 + \\sum_{j=1}^p X_j \\beta_j$. </h4>"
      ]
    },
    {
      "cell_type": "markdown",
      "metadata": {
        "id": "f6TIK-3Mbf3R",
        "colab_type": "text"
      },
      "source": [
        "The linear model either assumes that the regression function $E(Y|X)$ is linear, or that the linear model is a reasonable approximation.Here the $\\beta_j$'s are unknown parameters or coefficients, and the variables $X_j$ can come from different sources. No matter the source of $X_j$, the model is linear in the parameters."
      ]
    },
    {
      "cell_type": "markdown",
      "metadata": {
        "id": "utSU3KD9bf3S",
        "colab_type": "text"
      },
      "source": [
        "**Simple Linear Regression**: <h5 align=center>$$Y = \\beta_0 + \\beta_1 X + \\epsilon$$</h5>"
      ]
    },
    {
      "cell_type": "markdown",
      "metadata": {
        "id": "VvS5fIopbf3T",
        "colab_type": "text"
      },
      "source": [
        "**Multiple Linear Regression**: <h5 align=center>$$Y = \\beta_0 + \\beta_1 X_1 + \\beta_2 X_2 +...+ \\beta_p X_p + \\epsilon$$ </h5>\n",
        "<h5 align=center> $$sales = \\beta_0 + \\beta_1 \\times TV + \\beta_2 \\times radio + \\beta_3 \\times newspaper + \\epsilon$$ </h5>"
      ]
    },
    {
      "cell_type": "markdown",
      "metadata": {
        "id": "kZboyi5Qbf3U",
        "colab_type": "text"
      },
      "source": [
        "### Task 1: Importing Libraries"
      ]
    },
    {
      "cell_type": "code",
      "metadata": {
        "id": "FS_y2bHJbf3W",
        "colab_type": "code",
        "colab": {}
      },
      "source": [
        "import pandas as pd\n",
        "import numpy as np\n",
        "import seaborn as sns\n",
        "from scipy.stats import skew\n",
        "%matplotlib inline"
      ],
      "execution_count": 0,
      "outputs": []
    },
    {
      "cell_type": "code",
      "metadata": {
        "id": "rmJZJaCcbf3f",
        "colab_type": "code",
        "colab": {}
      },
      "source": [
        "import matplotlib.pyplot as plt\n",
        "plt.style.use(\"ggplot\")\n",
        "plt.rcParams['figure.figsize'] = (12, 8)\n",
        "\n",
        "from yellowbrick.regressor import PredictionError, ResidualsPlot\n",
        "from sklearn.linear_model import LinearRegression\n",
        "from sklearn.metrics import r2_score\n",
        "from sklearn.model_selection import train_test_split \n",
        "from sklearn.metrics import mean_squared_error"
      ],
      "execution_count": 0,
      "outputs": []
    },
    {
      "cell_type": "markdown",
      "metadata": {
        "id": "OYh612Wfbf3j",
        "colab_type": "text"
      },
      "source": [
        "**Note** - \n",
        "\n",
        "1. Simple linear Regression is useful when there is only one feature in X. \n",
        "\n",
        "2. In case of more than one feature in X, we should use multiple linear regression. \n",
        "\n",
        "3. yellowbrick - for data visualization"
      ]
    },
    {
      "cell_type": "markdown",
      "metadata": {
        "id": "CsE1BFoqbf3k",
        "colab_type": "text"
      },
      "source": [
        "### Task 2: Load the Data"
      ]
    },
    {
      "cell_type": "markdown",
      "metadata": {
        "id": "zoUIluX0bf3l",
        "colab_type": "text"
      },
      "source": [
        "The advertising dataset captures sales revenue generated with respect to advertisement spends across multiple channles like radio, tv and newspaper."
      ]
    },
    {
      "cell_type": "code",
      "metadata": {
        "id": "CS_jU8iRbf3l",
        "colab_type": "code",
        "outputId": "5502f36d-a3f8-422c-b882-c0ea660d4086",
        "colab": {
          "base_uri": "https://localhost:8080/",
          "height": 204
        }
      },
      "source": [
        "df = pd.read_csv('/content/Advertising.csv')\n",
        "df.head()"
      ],
      "execution_count": 47,
      "outputs": [
        {
          "output_type": "execute_result",
          "data": {
            "text/html": [
              "<div>\n",
              "<style scoped>\n",
              "    .dataframe tbody tr th:only-of-type {\n",
              "        vertical-align: middle;\n",
              "    }\n",
              "\n",
              "    .dataframe tbody tr th {\n",
              "        vertical-align: top;\n",
              "    }\n",
              "\n",
              "    .dataframe thead th {\n",
              "        text-align: right;\n",
              "    }\n",
              "</style>\n",
              "<table border=\"1\" class=\"dataframe\">\n",
              "  <thead>\n",
              "    <tr style=\"text-align: right;\">\n",
              "      <th></th>\n",
              "      <th>TV</th>\n",
              "      <th>radio</th>\n",
              "      <th>newspaper</th>\n",
              "      <th>sales</th>\n",
              "    </tr>\n",
              "  </thead>\n",
              "  <tbody>\n",
              "    <tr>\n",
              "      <th>0</th>\n",
              "      <td>230.1</td>\n",
              "      <td>37.8</td>\n",
              "      <td>69.2</td>\n",
              "      <td>22.1</td>\n",
              "    </tr>\n",
              "    <tr>\n",
              "      <th>1</th>\n",
              "      <td>44.5</td>\n",
              "      <td>39.3</td>\n",
              "      <td>45.1</td>\n",
              "      <td>10.4</td>\n",
              "    </tr>\n",
              "    <tr>\n",
              "      <th>2</th>\n",
              "      <td>17.2</td>\n",
              "      <td>45.9</td>\n",
              "      <td>69.3</td>\n",
              "      <td>9.3</td>\n",
              "    </tr>\n",
              "    <tr>\n",
              "      <th>3</th>\n",
              "      <td>151.5</td>\n",
              "      <td>41.3</td>\n",
              "      <td>58.5</td>\n",
              "      <td>18.5</td>\n",
              "    </tr>\n",
              "    <tr>\n",
              "      <th>4</th>\n",
              "      <td>180.8</td>\n",
              "      <td>10.8</td>\n",
              "      <td>58.4</td>\n",
              "      <td>12.9</td>\n",
              "    </tr>\n",
              "  </tbody>\n",
              "</table>\n",
              "</div>"
            ],
            "text/plain": [
              "      TV  radio  newspaper  sales\n",
              "0  230.1   37.8       69.2   22.1\n",
              "1   44.5   39.3       45.1   10.4\n",
              "2   17.2   45.9       69.3    9.3\n",
              "3  151.5   41.3       58.5   18.5\n",
              "4  180.8   10.8       58.4   12.9"
            ]
          },
          "metadata": {
            "tags": []
          },
          "execution_count": 47
        }
      ]
    },
    {
      "cell_type": "markdown",
      "metadata": {
        "id": "VOx3jS46yL7a",
        "colab_type": "text"
      },
      "source": [
        "* sales is in 1000 of units."
      ]
    },
    {
      "cell_type": "code",
      "metadata": {
        "id": "SZzQSFFGbf3p",
        "colab_type": "code",
        "outputId": "6aa1296a-e5b7-42b4-9e59-8e62e93ce8f7",
        "colab": {
          "base_uri": "https://localhost:8080/",
          "height": 204
        }
      },
      "source": [
        "df.info()"
      ],
      "execution_count": 48,
      "outputs": [
        {
          "output_type": "stream",
          "text": [
            "<class 'pandas.core.frame.DataFrame'>\n",
            "RangeIndex: 200 entries, 0 to 199\n",
            "Data columns (total 4 columns):\n",
            " #   Column     Non-Null Count  Dtype  \n",
            "---  ------     --------------  -----  \n",
            " 0   TV         200 non-null    float64\n",
            " 1   radio      200 non-null    float64\n",
            " 2   newspaper  200 non-null    float64\n",
            " 3   sales      200 non-null    float64\n",
            "dtypes: float64(4)\n",
            "memory usage: 6.4 KB\n"
          ],
          "name": "stdout"
        }
      ]
    },
    {
      "cell_type": "code",
      "metadata": {
        "id": "fd_UEHUwEQgF",
        "colab_type": "code",
        "outputId": "59d8512d-c8e7-43c7-b627-9ab14c9bc8de",
        "colab": {
          "base_uri": "https://localhost:8080/",
          "height": 419
        }
      },
      "source": [
        "df.isna()"
      ],
      "execution_count": 49,
      "outputs": [
        {
          "output_type": "execute_result",
          "data": {
            "text/html": [
              "<div>\n",
              "<style scoped>\n",
              "    .dataframe tbody tr th:only-of-type {\n",
              "        vertical-align: middle;\n",
              "    }\n",
              "\n",
              "    .dataframe tbody tr th {\n",
              "        vertical-align: top;\n",
              "    }\n",
              "\n",
              "    .dataframe thead th {\n",
              "        text-align: right;\n",
              "    }\n",
              "</style>\n",
              "<table border=\"1\" class=\"dataframe\">\n",
              "  <thead>\n",
              "    <tr style=\"text-align: right;\">\n",
              "      <th></th>\n",
              "      <th>TV</th>\n",
              "      <th>radio</th>\n",
              "      <th>newspaper</th>\n",
              "      <th>sales</th>\n",
              "    </tr>\n",
              "  </thead>\n",
              "  <tbody>\n",
              "    <tr>\n",
              "      <th>0</th>\n",
              "      <td>False</td>\n",
              "      <td>False</td>\n",
              "      <td>False</td>\n",
              "      <td>False</td>\n",
              "    </tr>\n",
              "    <tr>\n",
              "      <th>1</th>\n",
              "      <td>False</td>\n",
              "      <td>False</td>\n",
              "      <td>False</td>\n",
              "      <td>False</td>\n",
              "    </tr>\n",
              "    <tr>\n",
              "      <th>2</th>\n",
              "      <td>False</td>\n",
              "      <td>False</td>\n",
              "      <td>False</td>\n",
              "      <td>False</td>\n",
              "    </tr>\n",
              "    <tr>\n",
              "      <th>3</th>\n",
              "      <td>False</td>\n",
              "      <td>False</td>\n",
              "      <td>False</td>\n",
              "      <td>False</td>\n",
              "    </tr>\n",
              "    <tr>\n",
              "      <th>4</th>\n",
              "      <td>False</td>\n",
              "      <td>False</td>\n",
              "      <td>False</td>\n",
              "      <td>False</td>\n",
              "    </tr>\n",
              "    <tr>\n",
              "      <th>...</th>\n",
              "      <td>...</td>\n",
              "      <td>...</td>\n",
              "      <td>...</td>\n",
              "      <td>...</td>\n",
              "    </tr>\n",
              "    <tr>\n",
              "      <th>195</th>\n",
              "      <td>False</td>\n",
              "      <td>False</td>\n",
              "      <td>False</td>\n",
              "      <td>False</td>\n",
              "    </tr>\n",
              "    <tr>\n",
              "      <th>196</th>\n",
              "      <td>False</td>\n",
              "      <td>False</td>\n",
              "      <td>False</td>\n",
              "      <td>False</td>\n",
              "    </tr>\n",
              "    <tr>\n",
              "      <th>197</th>\n",
              "      <td>False</td>\n",
              "      <td>False</td>\n",
              "      <td>False</td>\n",
              "      <td>False</td>\n",
              "    </tr>\n",
              "    <tr>\n",
              "      <th>198</th>\n",
              "      <td>False</td>\n",
              "      <td>False</td>\n",
              "      <td>False</td>\n",
              "      <td>False</td>\n",
              "    </tr>\n",
              "    <tr>\n",
              "      <th>199</th>\n",
              "      <td>False</td>\n",
              "      <td>False</td>\n",
              "      <td>False</td>\n",
              "      <td>False</td>\n",
              "    </tr>\n",
              "  </tbody>\n",
              "</table>\n",
              "<p>200 rows × 4 columns</p>\n",
              "</div>"
            ],
            "text/plain": [
              "        TV  radio  newspaper  sales\n",
              "0    False  False      False  False\n",
              "1    False  False      False  False\n",
              "2    False  False      False  False\n",
              "3    False  False      False  False\n",
              "4    False  False      False  False\n",
              "..     ...    ...        ...    ...\n",
              "195  False  False      False  False\n",
              "196  False  False      False  False\n",
              "197  False  False      False  False\n",
              "198  False  False      False  False\n",
              "199  False  False      False  False\n",
              "\n",
              "[200 rows x 4 columns]"
            ]
          },
          "metadata": {
            "tags": []
          },
          "execution_count": 49
        }
      ]
    },
    {
      "cell_type": "code",
      "metadata": {
        "id": "SVShevD-ETeL",
        "colab_type": "code",
        "outputId": "9b5a0e5b-d84f-4ab9-cd14-feaca1e66030",
        "colab": {
          "base_uri": "https://localhost:8080/",
          "height": 102
        }
      },
      "source": [
        "df.isna().sum()"
      ],
      "execution_count": 50,
      "outputs": [
        {
          "output_type": "execute_result",
          "data": {
            "text/plain": [
              "TV           0\n",
              "radio        0\n",
              "newspaper    0\n",
              "sales        0\n",
              "dtype: int64"
            ]
          },
          "metadata": {
            "tags": []
          },
          "execution_count": 50
        }
      ]
    },
    {
      "cell_type": "code",
      "metadata": {
        "id": "li24RshUUz9Y",
        "colab_type": "code",
        "colab": {
          "base_uri": "https://localhost:8080/",
          "height": 34
        },
        "outputId": "c1ef5732-fc9f-4490-bde8-78ff00cb9f88"
      },
      "source": [
        "df.duplicated(subset=['TV', 'radio', 'newspaper']).values.any()"
      ],
      "execution_count": 51,
      "outputs": [
        {
          "output_type": "execute_result",
          "data": {
            "text/plain": [
              "False"
            ]
          },
          "metadata": {
            "tags": []
          },
          "execution_count": 51
        }
      ]
    },
    {
      "cell_type": "markdown",
      "metadata": {
        "id": "YQgxVA7Bbf3t",
        "colab_type": "text"
      },
      "source": [
        "### Task 3: Relationship between Features and Response"
      ]
    },
    {
      "cell_type": "code",
      "metadata": {
        "id": "FgE7ZKP_bf3t",
        "colab_type": "code",
        "outputId": "49cd1bdb-f004-4ea5-cff0-c1a02476f9d5",
        "colab": {
          "base_uri": "https://localhost:8080/",
          "height": 548
        }
      },
      "source": [
        "sns.pairplot(df, x_vars=['TV', 'radio', 'newspaper'], y_vars='sales', \n",
        "             height=7, aspect=0.5)"
      ],
      "execution_count": 52,
      "outputs": [
        {
          "output_type": "execute_result",
          "data": {
            "text/plain": [
              "<seaborn.axisgrid.PairGrid at 0x7efff0347f60>"
            ]
          },
          "metadata": {
            "tags": []
          },
          "execution_count": 52
        },
        {
          "output_type": "display_data",
          "data": {
            "image/png": "[encoded data removed]",
            "text/plain": [
              "<Figure size 756x504 with 3 Axes>"
            ]
          },
          "metadata": {
            "tags": []
          }
        }
      ]
    },
    {
      "cell_type": "markdown",
      "metadata": {
        "id": "BhOUMK-qbf3y",
        "colab_type": "text"
      },
      "source": [
        "**Observation** - \n",
        "\n",
        "1. TV is most linearly correlated with sales. \n",
        "\n",
        "2. radio is less correlated with sales. \n",
        "\n",
        "3. newspaper is least correlated with sales."
      ]
    },
    {
      "cell_type": "markdown",
      "metadata": {
        "id": "BnI4wnswbf3z",
        "colab_type": "text"
      },
      "source": [
        "### Task 4: Multiple Linear Regression - Estimating Coefficients"
      ]
    },
    {
      "cell_type": "markdown",
      "metadata": {
        "id": "76qdy_Opz71k",
        "colab_type": "text"
      },
      "source": [
        "sales=β0+β1×TV+β2×radio+β3×newspaper+ϵ\n",
        "\n",
        "Objective of mutiple LR - To find value of β0,β1,β2,ϵ."
      ]
    },
    {
      "cell_type": "code",
      "metadata": {
        "id": "Odo3uBUJbf3z",
        "colab_type": "code",
        "outputId": "868e30c0-77a0-4a26-e959-dc38eead5de8",
        "colab": {
          "base_uri": "https://localhost:8080/",
          "height": 51
        }
      },
      "source": [
        "x=df[['TV', 'radio', 'newspaper']]\n",
        "y=df.sales\n",
        "\n",
        "lr = LinearRegression()\n",
        "lr.fit(x, y)\n",
        "\n",
        "print(lr.intercept_)\n",
        "print(lr.coef_)"
      ],
      "execution_count": 53,
      "outputs": [
        {
          "output_type": "stream",
          "text": [
            "2.938889369459412\n",
            "[ 0.04576465  0.18853002 -0.00103749]\n"
          ],
          "name": "stdout"
        }
      ]
    },
    {
      "cell_type": "code",
      "metadata": {
        "id": "3ZZOP7L8bf33",
        "colab_type": "code",
        "outputId": "8ff060b2-e694-41ac-855c-a86f0a5c292e",
        "colab": {
          "base_uri": "https://localhost:8080/",
          "height": 68
        }
      },
      "source": [
        "list(zip(['TV', 'radio', 'newspaper'], lr.coef_))"
      ],
      "execution_count": 54,
      "outputs": [
        {
          "output_type": "execute_result",
          "data": {
            "text/plain": [
              "[('TV', 0.0457646454553976),\n",
              " ('radio', 0.18853001691820448),\n",
              " ('newspaper', -0.0010374930424763285)]"
            ]
          },
          "metadata": {
            "tags": []
          },
          "execution_count": 54
        }
      ]
    },
    {
      "cell_type": "code",
      "metadata": {
        "id": "A_05beexbf37",
        "colab_type": "code",
        "outputId": "87f19f1c-fc6a-46f3-c627-8c6b51f27c37",
        "colab": {
          "base_uri": "https://localhost:8080/",
          "height": 504
        }
      },
      "source": [
        "# annot=True - so we can see values within the matrix\n",
        "sns.heatmap(df.corr(), annot=True)"
      ],
      "execution_count": 55,
      "outputs": [
        {
          "output_type": "execute_result",
          "data": {
            "text/plain": [
              "<matplotlib.axes._subplots.AxesSubplot at 0x7efff024ba58>"
            ]
          },
          "metadata": {
            "tags": []
          },
          "execution_count": 55
        },
        {
          "output_type": "display_data",
          "data": {
            "image/png": "[encoded data removed]",
            "text/plain": [
              "<Figure size 864x576 with 2 Axes>"
            ]
          },
          "metadata": {
            "tags": []
          }
        }
      ]
    },
    {
      "cell_type": "markdown",
      "metadata": {
        "id": "8M0mx0X7bf3_",
        "colab_type": "text"
      },
      "source": [
        "**Observation** -\n",
        "\n",
        "    corr(TV-sales) > corr(radio-sales) > corr(newspaper-sales)"
      ]
    },
    {
      "cell_type": "markdown",
      "metadata": {
        "id": "zQ-wqZw0bf4E",
        "colab_type": "text"
      },
      "source": [
        "### Task 5: Feature Selection"
      ]
    },
    {
      "cell_type": "markdown",
      "metadata": {
        "id": "rGZvv_hsbf4F",
        "colab_type": "text"
      },
      "source": [
        "**Objective** - To determine that which predictors are required to get response in order to fit a single model. We will use r2 score algorithm."
      ]
    },
    {
      "cell_type": "code",
      "metadata": {
        "id": "-3pjZ7ZMbf4H",
        "colab_type": "code",
        "outputId": "8064294b-cd99-4153-fab7-bc6e088fb809",
        "colab": {
          "base_uri": "https://localhost:8080/",
          "height": 34
        }
      },
      "source": [
        "lr2 = LinearRegression().fit(x[['TV',\"radio\"]], y)\n",
        "lr2_predictions = lr2.predict(x[['TV', 'radio']])\n",
        "\n",
        "print(\"R2 score for lr2:\", r2_score(y,lr2_predictions))"
      ],
      "execution_count": 56,
      "outputs": [
        {
          "output_type": "stream",
          "text": [
            "R2 score for lr2: 0.8971942610828957\n"
          ],
          "name": "stdout"
        }
      ]
    },
    {
      "cell_type": "code",
      "metadata": {
        "id": "6T_yHRUpbf4K",
        "colab_type": "code",
        "outputId": "48ca27ca-1f4d-4abd-9e4a-ab83b7049113",
        "colab": {
          "base_uri": "https://localhost:8080/",
          "height": 34
        }
      },
      "source": [
        "lr3 = LinearRegression().fit(x[['TV', 'radio','newspaper']], y)\n",
        "lr3_predictions = lr3.predict(x[['TV', 'radio', 'newspaper']])\n",
        "\n",
        "print(\"R2 score for lr3:\", r2_score(y,lr3_predictions))"
      ],
      "execution_count": 57,
      "outputs": [
        {
          "output_type": "stream",
          "text": [
            "R2 score for lr3: 0.8972106381789522\n"
          ],
          "name": "stdout"
        }
      ]
    },
    {
      "cell_type": "markdown",
      "metadata": {
        "id": "hkSEfDhAbf4O",
        "colab_type": "text"
      },
      "source": [
        "**Observation** - The model that uses all three values have slightly less increase than the other hence we can say that newspaper have slightly low effect. Hence newspaper can be dropped as it does not provide no real improvement in the model fit to training samples and its inclusion will likely lead to poor result on independent test samples or test set due to over fitting.\n",
        "\n"
      ]
    },
    {
      "cell_type": "markdown",
      "metadata": {
        "id": "7OhCWxqdbf4P",
        "colab_type": "text"
      },
      "source": [
        "### Task 6: Model Evaluation Using Train/Test Split and Metrics"
      ]
    },
    {
      "cell_type": "markdown",
      "metadata": {
        "id": "sHXUbrrubf4Q",
        "colab_type": "text"
      },
      "source": [
        "**Mean Absolute Error** (MAE) is the mean of the absolute value of the errors: <h5 align=center>$$\\frac{1}{n}\\sum_{i=1}^{n} \\left |y_i - \\hat{y_i} \\right |$$</h5>\n",
        "**Mean Squared Error** (MSE) is the mean of the squared errors: <h5 align=center>$$\\frac{1}{n}\\sum_{i=1}^{n} (y_i - \\hat{y_i})^2$$</h5>\n",
        "**Root Mean Squared Error** (RMSE) is the mean of the squared errors: <h5 align=center>$$\\sqrt{\\frac{1}{n}\\sum_{i=1}^{n} (y_i - \\hat{y_i})^2}$$</h5>\n",
        "\n",
        "\n",
        "\n",
        "<h5 align = center>$$y_i$$ is the actual value</h5>\n",
        "<h5 align = center>$$\\hat{y_i}$$ is the predicted value</h5>"
      ]
    },
    {
      "cell_type": "markdown",
      "metadata": {
        "id": "GcpD7r7obf4Q",
        "colab_type": "text"
      },
      "source": [
        "**Note** - \n",
        "\n",
        "Lesser the value of RMSE (Root Mean Square Error), the better is the model.\n",
        "\n",
        "Advantage of RMSE over MSE is that RMSE can be interpreted in y units i.e it can be interpreted as the standard deviation of unexplained variance.\n",
        "\n",
        "The standard deviation is the square root of the variance.\n",
        "The variance in probability theory and statistics is a way to measure how far a set of numbers is spread out. \n",
        "\n",
        "Standard deviation is a number used to tell how measurements for a group are spread out from the average (mean), or expected value. A low standard deviation means that most of the numbers are close to the average. A high standard deviation means that the numbers are more spread out."
      ]
    },
    {
      "cell_type": "markdown",
      "metadata": {
        "id": "JIqnc8Wibf4S",
        "colab_type": "text"
      },
      "source": [
        "Let's use train/test split with RMSE to see whether newspaper should be kept in the model:"
      ]
    },
    {
      "cell_type": "code",
      "metadata": {
        "id": "Zh-yBoNqbf4T",
        "colab_type": "code",
        "outputId": "0dcbb326-5e54-47b1-a6d1-acb4aa2e3157",
        "colab": {
          "base_uri": "https://localhost:8080/",
          "height": 68
        }
      },
      "source": [
        "x = df[['TV', 'radio', 'newspaper']]\n",
        "y = df.sales\n",
        "\n",
        "X_train, X_test, Y_train, Y_test = train_test_split(x, y, random_state=1)\n",
        "\n",
        "lr3 = LinearRegression().fit(X_train, Y_train)\n",
        "lr3_predictions = lr3.predict(X_test)\n",
        "\n",
        "print(\"when taking newspaper:\")\n",
        "print(\"RSME:\", np.sqrt(mean_squared_error(Y_test,lr3_predictions)))\n",
        "print(\"R2 score:\", r2_score(Y_test,lr3_predictions))"
      ],
      "execution_count": 58,
      "outputs": [
        {
          "output_type": "stream",
          "text": [
            "when taking newspaper:\n",
            "RSME: 1.404651423032895\n",
            "R2 score: 0.9156213613792232\n"
          ],
          "name": "stdout"
        }
      ]
    },
    {
      "cell_type": "code",
      "metadata": {
        "id": "89_jTEv3bf4W",
        "colab_type": "code",
        "outputId": "52cd734e-3cc1-4f06-b304-3ac10e191280",
        "colab": {
          "base_uri": "https://localhost:8080/",
          "height": 68
        }
      },
      "source": [
        "x = df[['TV', 'radio']]\n",
        "y = df.sales\n",
        "\n",
        "X_train, X_test, Y_train, Y_test = train_test_split(x,y, random_state=1)\n",
        "\n",
        "lr4 = LinearRegression().fit(X_train, Y_train)\n",
        "lr4_predictions = lr4.predict(X_test)\n",
        "\n",
        "print(\"With not newspaper:\")\n",
        "print(\"RMSE:\", np.sqrt(mean_squared_error(Y_test, lr4_predictions)))\n",
        "print(\"R2 score:\", r2_score(Y_test, lr4_predictions))"
      ],
      "execution_count": 59,
      "outputs": [
        {
          "output_type": "stream",
          "text": [
            "With not newspaper:\n",
            "RMSE: 1.3879034699382888\n",
            "R2 score: 0.9176214942248907\n"
          ],
          "name": "stdout"
        }
      ]
    },
    {
      "cell_type": "markdown",
      "metadata": {
        "id": "BcmmB-PgACWE",
        "colab_type": "text"
      },
      "source": [
        "**Observation** - \n",
        "\n",
        "RMSE(lr3) > RMSE(lr4)\n",
        "\n",
        "but \n",
        "\n",
        "R2_score(lr3) < R2_score(lr4)\n",
        "\n",
        "So, it is better to exclude newspaper."
      ]
    },
    {
      "cell_type": "code",
      "metadata": {
        "scrolled": true,
        "id": "laPm1dZPbf4Z",
        "colab_type": "code",
        "outputId": "fb2365b4-8dfa-412a-beb7-7fdf24c716c9",
        "colab": {
          "base_uri": "https://localhost:8080/",
          "height": 518
        }
      },
      "source": [
        "lr_final = lr4\n",
        "visualizer = PredictionError(lr_final).fit(X_train, Y_train)\n",
        "visualizer.score(X_test, Y_test)\n",
        "visualizer.poof() #draw/show/poof the data"
      ],
      "execution_count": 60,
      "outputs": [
        {
          "output_type": "display_data",
          "data": {
            "image/png": "[encoded data removed]",
            "text/plain": [
              "<Figure size 864x576 with 1 Axes>"
            ]
          },
          "metadata": {
            "tags": []
          }
        }
      ]
    },
    {
      "cell_type": "markdown",
      "metadata": {
        "id": "6D8mMwXAC577",
        "colab_type": "text"
      },
      "source": [
        "* identity line is drawn with the equation y=x"
      ]
    },
    {
      "cell_type": "markdown",
      "metadata": {
        "id": "l8D7ffVLbf4h",
        "colab_type": "text"
      },
      "source": [
        "### Task 7: Interaction Effect (Synergy)"
      ]
    },
    {
      "cell_type": "markdown",
      "metadata": {
        "id": "SWXyHFHuEN-i",
        "colab_type": "text"
      },
      "source": [
        "**Some important points** - \n",
        "\n",
        "1. **Interaction effect** means that two or more features/variables combined have a significantly larger effect on a feature as compared to the sum of the individual variables alone.\n",
        "\n",
        "2. For eg - If you are marketing head(in case of this project), spending half of budget on radio and half budget on TV will be more beneficial as compared to spending full budget on only radio OR on only TV.\n",
        "\n",
        "3. sales=β0+β1×TV+β2×radio+β3×newspaper+ϵ\n",
        "\n",
        "    To allow for interaction effect, we have to include 3rd perdictor which is called as interaction term(which is constructed by computing the product of x1, x2, ...) - \n",
        "\n",
        "    intercation term = x1*x2*..."
      ]
    },
    {
      "cell_type": "code",
      "metadata": {
        "id": "V7MoO6PCbf4i",
        "colab_type": "code",
        "outputId": "536207e8-3007-4671-b16c-1ff1ba34c725",
        "colab": {
          "base_uri": "https://localhost:8080/",
          "height": 51
        }
      },
      "source": [
        "df['interation'] = df['TV'] * df['radio']\n",
        "\n",
        "X=df[['TV', 'radio', 'interation']]\n",
        "Y=df.sales\n",
        "\n",
        "X_train, X_test, Y_train, Y_test = train_test_split(X, Y, random_state=1)\n",
        "\n",
        "lr_finall = LinearRegression().fit(X_train, Y_train)\n",
        "lr_finall_predictions = lr_finall.predict(X_test)\n",
        "\n",
        "print(\"RMSE:\", np.sqrt(mean_squared_error(Y_test, lr_finall_predictions)))\n",
        "print(\"R2 score:\", r2_score(Y_test, lr_finall_predictions))"
      ],
      "execution_count": 61,
      "outputs": [
        {
          "output_type": "stream",
          "text": [
            "RMSE: 0.7011871137164328\n",
            "R2 score: 0.978973681468126\n"
          ],
          "name": "stdout"
        }
      ]
    },
    {
      "cell_type": "code",
      "metadata": {
        "id": "LZO16ypSbf4l",
        "colab_type": "code",
        "outputId": "5a126d36-9200-4fb3-8adb-4914b99f0ed6",
        "colab": {
          "base_uri": "https://localhost:8080/",
          "height": 518
        }
      },
      "source": [
        "visualizer_finall = PredictionError(lr_finall).fit(X_train, Y_train)\n",
        "visualizer_finall.score(X_test, Y_test)\n",
        "visualizer_finall.poof()"
      ],
      "execution_count": 62,
      "outputs": [
        {
          "output_type": "display_data",
          "data": {
            "image/png": "[encoded data removed]",
            "text/plain": [
              "<Figure size 864x576 with 1 Axes>"
            ]
          },
          "metadata": {
            "tags": []
          }
        }
      ]
    }
  ]
}